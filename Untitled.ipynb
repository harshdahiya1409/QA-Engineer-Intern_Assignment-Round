{
 "cells": [
  {
   "cell_type": "code",
   "execution_count": 2,
   "id": "2d1cf878",
   "metadata": {},
   "outputs": [
    {
     "name": "stdout",
     "output_type": "stream",
     "text": [
      "Requirement already satisfied: requests in c:\\users\\harsh dahiya\\anaconda3\\lib\\site-packages (2.29.0)\n",
      "Requirement already satisfied: charset-normalizer<4,>=2 in c:\\users\\harsh dahiya\\anaconda3\\lib\\site-packages (from requests) (2.0.4)\n",
      "Requirement already satisfied: idna<4,>=2.5 in c:\\users\\harsh dahiya\\anaconda3\\lib\\site-packages (from requests) (3.4)\n",
      "Requirement already satisfied: urllib3<1.27,>=1.21.1 in c:\\users\\harsh dahiya\\anaconda3\\lib\\site-packages (from requests) (1.26.16)\n",
      "Requirement already satisfied: certifi>=2017.4.17 in c:\\users\\harsh dahiya\\anaconda3\\lib\\site-packages (from requests) (2023.5.7)\n"
     ]
    }
   ],
   "source": [
    "!pip install requests"
   ]
  },
  {
   "cell_type": "code",
   "execution_count": null,
   "id": "ef68cdf8",
   "metadata": {},
   "outputs": [
    {
     "name": "stdout",
     "output_type": "stream",
     "text": [
      "1. Get weather\n",
      "2. Get Wind Speed\n",
      "3. Get Pressure\n",
      "0. Exit\n",
      "Enter your choice: 1\n",
      "Enter the date (YYYY-MM-DD): 2019-09-27\n",
      "No data available for the specified date.\n",
      "1. Get weather\n",
      "2. Get Wind Speed\n",
      "3. Get Pressure\n",
      "0. Exit\n",
      "Enter your choice: 2019-03-27\n",
      "Invalid choice. Please try again.\n",
      "1. Get weather\n",
      "2. Get Wind Speed\n",
      "3. Get Pressure\n",
      "0. Exit\n",
      "Enter your choice: 1\n",
      "Enter the date (YYYY-MM-DD): 2019-03-27\n",
      "The temperature on 2019-03-27 is 278.76 degrees Celsius.\n",
      "1. Get weather\n",
      "2. Get Wind Speed\n",
      "3. Get Pressure\n",
      "0. Exit\n"
     ]
    }
   ],
   "source": [
    "import requests\n",
    "\n",
    "API_URL = \"https://samples.openweathermap.org/data/2.5/forecast/hourly?q=London,us&appid=b6907d289e10d714a6e88b30761fae22\"  # Replace with the actual API URL\n",
    "\n",
    "def get_weather(date):\n",
    "    response = requests.get(API_URL)\n",
    "    data = response.json()\n",
    "    for forecast in data['list']:\n",
    "        if forecast['dt_txt'].split()[0] == date:\n",
    "            return forecast['main']['temp']\n",
    "    return None\n",
    "\n",
    "def get_wind_speed(date):\n",
    "    response = requests.get(API_URL)\n",
    "    data = response.json()\n",
    "    for forecast in data['list']:\n",
    "        if forecast['dt_txt'].split()[0] == date:\n",
    "            return forecast['wind']['speed']\n",
    "    return None\n",
    "\n",
    "def get_pressure(date):\n",
    "    response = requests.get(API_URL)\n",
    "    data = response.json()\n",
    "    for forecast in data['list']:\n",
    "        if forecast['dt_txt'].split()[0] == date:\n",
    "            return forecast['main']['pressure']\n",
    "    return None\n",
    "\n",
    "def main():\n",
    "    while True:\n",
    "        print(\"1. Get weather\")\n",
    "        print(\"2. Get Wind Speed\")\n",
    "        print(\"3. Get Pressure\")\n",
    "        print(\"0. Exit\")\n",
    "        choice = input(\"Enter your choice: \")\n",
    "\n",
    "        if choice == '1':\n",
    "            date = input(\"Enter the date (YYYY-MM-DD): \")\n",
    "            temp = get_weather(date)\n",
    "            if temp is not None:\n",
    "                print(f\"The temperature on {date} is {temp} degrees Celsius.\")\n",
    "            else:\n",
    "                print(\"No data available for the specified date.\")\n",
    "\n",
    "        elif choice == '2':\n",
    "            date = input(\"Enter the date (YYYY-MM-DD): \")\n",
    "            wind_speed = get_wind_speed(date)\n",
    "            if wind_speed is not None:\n",
    "                print(f\"The wind speed on {date} is {wind_speed} km/h.\")\n",
    "            else:\n",
    "                print(\"No data available for the specified date.\")\n",
    "\n",
    "        elif choice == '3':\n",
    "            date = input(\"Enter the date (YYYY-MM-DD): \")\n",
    "            pressure = get_pressure(date)\n",
    "            if pressure is not None:\n",
    "                print(f\"The pressure on {date} is {pressure} hPa.\")\n",
    "            else:\n",
    "                print(\"No data available for the specified date.\")\n",
    "\n",
    "        elif choice == '0':\n",
    "            break\n",
    "\n",
    "        else:\n",
    "            print(\"Invalid choice. Please try again.\")\n",
    "\n",
    "if __name__ == \"__main__\":\n",
    "    main()\n"
   ]
  },
  {
   "cell_type": "code",
   "execution_count": null,
   "id": "69360f3c",
   "metadata": {},
   "outputs": [],
   "source": []
  }
 ],
 "metadata": {
  "kernelspec": {
   "display_name": "Python 3 (ipykernel)",
   "language": "python",
   "name": "python3"
  },
  "language_info": {
   "codemirror_mode": {
    "name": "ipython",
    "version": 3
   },
   "file_extension": ".py",
   "mimetype": "text/x-python",
   "name": "python",
   "nbconvert_exporter": "python",
   "pygments_lexer": "ipython3",
   "version": "3.11.3"
  }
 },
 "nbformat": 4,
 "nbformat_minor": 5
}
